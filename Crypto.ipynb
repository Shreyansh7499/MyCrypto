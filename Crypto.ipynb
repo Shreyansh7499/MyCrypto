{
 "cells": [
  {
   "cell_type": "markdown",
   "metadata": {
    "hide_input": true
   },
   "source": [
    "\n",
    "# Crypto\n",
    "\n"
   ]
  },
  {
   "cell_type": "markdown",
   "metadata": {},
   "source": [
    "## RSA Attacks\n"
   ]
  },
  {
   "cell_type": "markdown",
   "metadata": {
    "hide_input": true
   },
   "source": [
    "### Wiener Attack\n",
    "\n",
    "\n",
    ">$\\phi(n)$  = (p - 1) (q - 1) <br>\n",
    " $\\phi(n)$  = pq - (p + q) + 1 <br> \n",
    " $\\phi(n)$  $\\cong$  n  <br><br>\n",
    " ed = k * $\\phi(n)$ + n <br>\n",
    " ed - k * $\\phi(n)$  = 1 <br><br><br> \n",
    " $\\frac{e}{\\phi(n))}$ - $\\frac{k}{d}$ = $\\frac1{d * \\phi(n)}$ <br><br>\n",
    " Now $\\frac1{ d * phi(n)}$ is very small <br>\n",
    " $\\therefore \\frac{e}{n}$  $\\cong$ $\\frac{d}{n}$ <br>\n",
    " We use continued fractions to get approx of $\\frac{k}{d}$ <br>\n",
    "\n",
    "<br>\n",
    "<br>\n",
    "\n",
    "\n",
    "<b>Few Observations:</b>\n",
    "1. As ed = 1 mod $\\phi$(n) , and $\\phi$(n) is even, Therefore e and d must be odd\n",
    "2. $\\phi$(n) is a whole number. Therefore (ed - 1) / k must be a whole number\n",
    "3. If we get $\\phi$(n) as a whole number,  we can check if it is indeed the correct $\\phi$(n) by: \\\n",
    "$\\phi$(n) = (p - 1) * (q - 1) = n - (p + q) + 1 \\\n",
    "p + q = n - $\\phi$(n) + 1 \\\n",
    "Consider a quadratic equation : \n",
    "    (x - p) (x - q) = 0 <br>\n",
    "    ${x}^2$ - (p + q) + pq = 0 <br> \n",
    "    ${x}^2$ - (n - $\\phi$(n) + 1) + n = 0 <br> \n",
    "If this equation has integral roots, then the $\\phi$(n) is correct.<br>\n",
    "\n",
    "Ref : https://www.youtube.com/watch?v=OpPrrndyYNU"
   ]
  },
  {
   "cell_type": "markdown",
   "metadata": {},
   "source": [
    "### Fermat factoring algorithm\n",
    "\n",
    "\n",
    "The algorithm is based upon the being able to factor the difference of 2 squares\n",
    "\n",
    "\n",
    ">n = ${x}^2$ - ${y}^2$  <br>\n",
    " n = (x - y) / (x + y)  <br>\n",
    " And we know that every positive odd integer can be written as the difference of two squares.<br><br>\n",
    "For n = pq <br>\n",
    "    n = ${(\\frac{p + q}{2})} ^2$  - ${(\\frac{p - q}{2})} ^2$ <br><br>\n",
    "Let k be the smallest positive integer so that k > $\\sqrt n$ \\\n",
    "Consider ${k}^2$ - n, <br> &nbsp;&nbsp;&nbsp;&nbsp;&nbsp;&nbsp;\n",
    "if it is a perfect square i.e. <br> &nbsp;&nbsp;&nbsp;&nbsp;&nbsp;&nbsp;&nbsp;&nbsp;&nbsp;&nbsp;&nbsp;&nbsp;\n",
    "   ${h}^2c_1 = $m^{e}$ mod N1 <br>\n",
    "c_2 = $m^{e}$ mod N2 <br>\n",
    "c_3 = $m^{e}$ mod N3 <br>\n",
    "Given GCD(N_i, N_j) = 1   <br>\n",
    "c = c1 mod N1 <br>\n",
    "c = c2 mod N2 <br>\n",
    "c = c3 mod N3 <br>\n",
    "Using CRT, we can find c <br>\n",
    "c = $m^e$ mod n1 * n2 * n3 <br>\n",
    "$\\therefore$  m =  $\\sqrt[e]{c}$  = ${k}^2$ - n <br> &nbsp;&nbsp;&nbsp;&nbsp;&nbsp;&nbsp;&nbsp;&nbsp;&nbsp;&nbsp;&nbsp;&nbsp;\n",
    "   n = (k + h) * (k - h) <br> &nbsp;&nbsp;&nbsp;&nbsp;&nbsp;&nbsp;\n",
    "else: <br> &nbsp;&nbsp;&nbsp;&nbsp;&nbsp;&nbsp;&nbsp;&nbsp;&nbsp;&nbsp;&nbsp;&nbsp;\n",
    "      k = k + 1 <br>\n",
    "Eventually we will find an h such that ${k + h}^2$ - n can be factored because: <br> &nbsp;&nbsp;&nbsp;&nbsp;&nbsp;&nbsp;&nbsp;&nbsp;&nbsp;&nbsp;&nbsp;&nbsp;\n",
    "    ${\\frac{n + 1}{2}^2}$ - n = ${\\frac{n - 1}{2}^2}$\t <br><br>\n",
    "Fermat’s factorization algorithm works well if the factors are roughly the ${\\bf same \\ size.}$ (p and q are close together) \n"
   ]
  },
  {
   "cell_type": "markdown",
   "metadata": {
    "heading_collapsed": true
   },
   "source": [
    "### Hastads Broadcasting Attack\n",
    "\n",
    "\n",
    "\n",
    ">c_1 = $m^{e}$ mod N1 <br>\n",
    "c_2 = $m^{e}$ mod N2 <br>\n",
    "c_3 = $m^{e}$ mod N3 <br><br>\n",
    "Given GCD(N_i, N_j) = 1   <br>\n",
    "c = c1 mod N1 <br>\n",
    "c = c2 mod N2 <br>\n",
    "c = c3 mod N3 <br><br>\n",
    "Using CRT, we can find c <br>\n",
    "c = $m^e$ mod n1 * n2 * n3 <br><br>\n",
    "$\\therefore$  m =  $\\sqrt[e]{c}$ \n",
    "\n",
    "\n",
    "Ref: https://www.youtube.com/watch?v=DKWnvyCsh9A"
   ]
  },
  {
   "cell_type": "markdown",
   "metadata": {},
   "source": [
    "## Number Theory"
   ]
  },
  {
   "cell_type": "markdown",
   "metadata": {},
   "source": [
    "### Fermat Little Theorem\n",
    "\n",
    "if gcd(a, p) = 1, p is a prime number and a is an integer <br> \n",
    "        ${a}^{p - 1}$ = 1 mod p\n",
    "\n",
    "We considering the first p - 1 positive multiples of a <br>\n",
    "\n",
    "        a , 2a , 3a , ... , (p - l)a  <br>\n",
    "\n",
    "None of these numbers is congruent modulo p to any other nor is any congruent to zero. Because it it happened, <br>\t\t\t\n",
    "ra $\\cong$ sa mod(p)   where 1 <= r < s <= p - 1\n",
    "\n",
    "then a could be canceled to give r = s (mod p), which is impossible. <br>\n",
    "    \n",
    "        ra - sa = kp\n",
    "        a(r - s) = kp   \n",
    "        and p is prime.\n",
    "    \n",
    "$\\therefore$ the previous set of integers must be congruent modulo 1, 2 , 3 , ... , p - 1\n",
    "\n",
    "Multiplying,\n",
    "    a· 2a · 3a · · · (p - l)a = 1 · 2 · 3 · · · (p - 1) (mod p) <br>\n",
    "    ${a}^{p - 1}$ = 1 mod p \n"
   ]
  },
  {
   "cell_type": "markdown",
   "metadata": {},
   "source": [
    "### Chinese Remainder Theorem\n",
    "\n",
    "    Let n1, n2, ... , nr be positive integers such that gcd(ni, nj) = 1 for i != j\n",
    "\t\t\n",
    "        x = a1 (mod n1)\n",
    "\t\tx = a2 (mod n2)\n",
    "\t\t...\n",
    "\t\t...\n",
    "\t\tx = ar (mod nr)\n",
    "\n",
    "\tThen this has a simultaneous solution, which is unique modulo the integer n1n2...nr\n",
    "\n",
    "\tProof(Intuition):\n",
    "\t\tLet N = n1*n2....*nr\n",
    "\n",
    "\t\tAnd Nk = N / nk\n",
    "\n",
    "\t\tThen  x = a1*N1*x1 + a2*N2*x2 .......... + ar*Nr*xr\n",
    "\t\t is a simultaneous solution for this system.\n",
    "\n",
    "\t\t Observe: Ni = 0 mod(nk) because nk divides Ni (As Ni = N/ni )"
   ]
  },
  {
   "cell_type": "markdown",
   "metadata": {
    "heading_collapsed": true
   },
   "source": [
    "### Euler Theorem\n",
    "\n",
    "\n",
    "if n > 1 and gcd(a, n) = 1 \n",
    "\\begin{equation}\n",
    "a^{\\phi (n)} = 1 \\ mod \\ n\n",
    "\\end{equation}\n",
    "\n",
    "\n",
    "\n",
    "    "
   ]
  },
  {
   "cell_type": "markdown",
   "metadata": {},
   "source": [
    "### Extended Euclidean Algorithm:\n",
    "\n",
    "    Extended Euclidean algorithm also finds integer coefficients x and y such that:\n",
    "    ax + by = gcd(a, b) \n",
    "    ..."
   ]
  },
  {
   "cell_type": "markdown",
   "metadata": {},
   "source": [
    "### Other\n",
    "1. Let p, q be prime and p != q\n",
    "    \n",
    "    if a $\\cong$ M mod(p) and a $\\cong$ M mod(q)\n",
    "    \n",
    "    then a $\\cong$ M mod(p $\\times$ q)\n",
    "\n",
    "\n",
    "2. If p and q are distinct primes with $a^p$ = a mod(p) and $a^q$ = a mod(p) \n",
    "    \n",
    "    then $a^{pq}$ = a (mod pq)\n",
    "\n",
    "\n",
    "3. The linear congruence ax $\\cong$ b (mod n) has a solution if and only if d divides b,\n",
    "\n",
    "   where d = gcd(a, n). If d divides b, then it has d mutually incongruent solutions modulo n.\n",
    "\n",
    "\n",
    "4. Wilson Theorem: \n",
    "\n",
    "    If p is a prime, then (p - 1)! $\\cong$ -1 (mod p )."
   ]
  },
  {
   "cell_type": "markdown",
   "metadata": {},
   "source": [
    "## PRNG"
   ]
  },
  {
   "cell_type": "markdown",
   "metadata": {},
   "source": [
    " ### Linear Congruential Generators\n",
    " Link : https://tailcall.net/blog/cracking-randomness-lcgs/"
   ]
  },
  {
   "cell_type": "code",
   "execution_count": 3,
   "metadata": {
    "code_folding": [],
    "hide_input": false
   },
   "outputs": [],
   "source": [
    "### Implementation\n",
    "\n",
    "class prng_lcg:\n",
    "    m = 672257317069504227  # the \"multiplier\"\n",
    "    c = 7382843889490547368  # the \"increment\"\n",
    "    n = 9223372036854775783  # the \"modulus\"\n",
    "\n",
    "    def __init__(self, seed):\n",
    "        self.state = seed  # the \"seed\"\n",
    "\n",
    "    def next(self):\n",
    "        self.state = (self.state * self.m + self.c) % self.n\n",
    "        return self.state\n",
    "\n",
    "\n",
    "def test():\n",
    "    gen = prng_lcg(123)  # seed = 123\n",
    "    print (gen.next())  # generate first value\n",
    "    print (gen.next())  # generate second value\n",
    "    print (gen.next())  # generate third value\n",
    "\n"
   ]
  },
  {
   "cell_type": "code",
   "execution_count": 4,
   "metadata": {
    "hide_input": false
   },
   "outputs": [],
   "source": [
    "# Attacks\n",
    "## unknown increment \n",
    "\n",
    "def crack_unknown_increment(states, modulus, multiplier):\n",
    "    increment = (states[1] - states[0]*multiplier) % modulus\n",
    "    return modulus, multiplier, increment\n",
    "\n",
    "## unknown increment and multiplier\n",
    "\n",
    "def crack_unknown_multiplier(states, modulus):\n",
    "    multiplier = (states[2] - states[1]) * modinv(states[1] - states[0], modulus) % modulus\n",
    "    return crack_unknown_increment(states, modulus, multiplier)\n",
    "\n",
    "## crack_unknown_modulus\n",
    "\n",
    "def crack_unknown_modulus(states):\n",
    "    diffs = [s1 - s0 for s0, s1 in zip(states, states[1:])]\n",
    "    zeroes = [t2*t0 - t1*t1 for t0, t1, t2 in zip(diffs, diffs[1:], diffs[2:])]\n",
    "    modulus = abs(reduce(gcd, zeroes))\n",
    "    return crack_unknown_multiplier(states, modulus)"
   ]
  }
 ],
 "metadata": {
  "kernelspec": {
   "display_name": "Python 3",
   "language": "python",
   "name": "python3"
  },
  "language_info": {
   "codemirror_mode": {
    "name": "ipython",
    "version": 3
   },
   "file_extension": ".py",
   "mimetype": "text/x-python",
   "name": "python",
   "nbconvert_exporter": "python",
   "pygments_lexer": "ipython3",
   "version": "3.6.9"
  },
  "latex_envs": {
   "LaTeX_envs_menu_present": true,
   "autoclose": true,
   "autocomplete": true,
   "bibliofile": "biblio.bib",
   "cite_by": "key",
   "current_citInitial": 1,
   "eqLabelWithNumbers": false,
   "eqNumInitial": 1,
   "hotkeys": {
    "equation": "Ctrl-E",
    "itemize": "Ctrl-I"
   },
   "labels_anchors": true,
   "latex_user_defs": false,
   "report_style_numbering": false,
   "user_envs_cfg": false
  },
  "toc": {
   "base_numbering": 1,
   "nav_menu": {},
   "number_sections": true,
   "sideBar": true,
   "skip_h1_title": true,
   "title_cell": "Table of Contents",
   "title_sidebar": "Contents",
   "toc_cell": false,
   "toc_position": {
    "height": "calc(100% - 180px)",
    "left": "10px",
    "top": "150px",
    "width": "256px"
   },
   "toc_section_display": true,
   "toc_window_display": true
  },
  "varInspector": {
   "cols": {
    "lenName": 16,
    "lenType": 16,
    "lenVar": 40
   },
   "kernels_config": {
    "python": {
     "delete_cmd_postfix": "",
     "delete_cmd_prefix": "del ",
     "library": "var_list.py",
     "varRefreshCmd": "print(var_dic_list())"
    },
    "r": {
     "delete_cmd_postfix": ") ",
     "delete_cmd_prefix": "rm(",
     "library": "var_list.r",
     "varRefreshCmd": "cat(var_dic_list()) "
    }
   },
   "oldHeight": 122.72736400000001,
   "position": {
    "height": "40px",
    "left": "1475.45px",
    "right": "20px",
    "top": "120px",
    "width": "250px"
   },
   "types_to_exclude": [
    "module",
    "function",
    "builtin_function_or_method",
    "instance",
    "_Feature"
   ],
   "varInspector_section_display": "none",
   "window_display": false
  }
 },
 "nbformat": 4,
 "nbformat_minor": 4
}
